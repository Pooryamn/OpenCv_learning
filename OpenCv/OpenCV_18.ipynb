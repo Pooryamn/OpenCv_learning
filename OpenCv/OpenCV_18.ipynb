{
 "cells": [
  {
   "cell_type": "code",
   "execution_count": 1,
   "metadata": {},
   "outputs": [],
   "source": [
    "import cv2\n",
    "\n",
    "# Get video from main camera in laptop\n",
    "cap = cv2.VideoCapture(0)\n",
    "\n",
    "# get w and h of video \n",
    "width = int(cap.get(cv2.CAP_PROP_FRAME_WIDTH))\n",
    "height = int(cap.get(cv2.CAP_PROP_FRAME_HEIGHT))\n",
    "\n",
    "\n",
    "x = width // 2\n",
    "y = height // 2\n",
    "\n",
    "while True:\n",
    "    \n",
    "    # get video stream \n",
    "    ret,frame = cap.read()\n",
    "    \n",
    "    # Draw Circle on it\n",
    "    cv2.circle(frame,(x,y),20,(0, 0, 255),2)\n",
    "    \n",
    "    # Show frames \n",
    "    cv2.imshow('Live Stream',frame)\n",
    "    \n",
    "    \n",
    "    if cv2.waitKey(1) & 0xff == ord('q'):\n",
    "         break\n",
    "         \n",
    "        \n",
    "cap.release()\n",
    "cv2.destroyAllWindows()"
   ]
  }
 ],
 "metadata": {
  "kernelspec": {
   "display_name": "Python 3",
   "language": "python",
   "name": "python3"
  },
  "language_info": {
   "codemirror_mode": {
    "name": "ipython",
    "version": 3
   },
   "file_extension": ".py",
   "mimetype": "text/x-python",
   "name": "python",
   "nbconvert_exporter": "python",
   "pygments_lexer": "ipython3",
   "version": "3.7.3"
  }
 },
 "nbformat": 4,
 "nbformat_minor": 2
}
