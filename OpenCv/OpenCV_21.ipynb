{
 "cells": [
  {
   "cell_type": "code",
   "execution_count": 3,
   "metadata": {},
   "outputs": [],
   "source": [
    "import cv2\n",
    "\n",
    "\n",
    "## CallBack function Rectangle\n",
    "def draw_rectangle(event,x,y,flags,param):\n",
    "    \n",
    "    global ptlist\n",
    "    \n",
    "    if event == cv2.EVENT_LBUTTONDOWN:\n",
    "        \n",
    "        tmp = (x,y)\n",
    "        ptlist.append(tmp)\n",
    "\n",
    "\n",
    "# Global Vars \n",
    "\n",
    "ptlist = []\n",
    "\n",
    "\n",
    "# connect to the callback\n",
    "cap = cv2.VideoCapture(0)\n",
    "\n",
    "cv2.namedWindow('Dynamic draw on video')\n",
    "\n",
    "cv2.setMouseCallback('Dynamic draw on video',draw_rectangle)\n",
    "\n",
    "while True:\n",
    "    \n",
    "    ret,frame = cap.read()\n",
    "    \n",
    "    # drawing on the frame based of gloal vars\n",
    "    for tup in ptlist:\n",
    "        cv2.circle(frame,center=tup,radius=20,color=(255,0,0),thickness=3)\n",
    "    \n",
    "    \n",
    "    cv2.imshow('Dynamic draw on video',frame)\n",
    "    \n",
    "    if cv2.waitKey(1) & 0xFF == ord('q'):\n",
    "        break\n",
    "        \n",
    "    if cv2.waitKey(1) & 0xFF == ord('c'):\n",
    "        ptlist.clear()\n",
    "        \n",
    "cap.release()\n",
    "cv2.destroyAllWindows()"
   ]
  }
 ],
 "metadata": {
  "kernelspec": {
   "display_name": "Python 3",
   "language": "python",
   "name": "python3"
  },
  "language_info": {
   "codemirror_mode": {
    "name": "ipython",
    "version": 3
   },
   "file_extension": ".py",
   "mimetype": "text/x-python",
   "name": "python",
   "nbconvert_exporter": "python",
   "pygments_lexer": "ipython3",
   "version": "3.7.3"
  }
 },
 "nbformat": 4,
 "nbformat_minor": 2
}
