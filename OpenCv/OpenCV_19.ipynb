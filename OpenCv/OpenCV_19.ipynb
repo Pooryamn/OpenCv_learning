{
 "cells": [
  {
   "cell_type": "code",
   "execution_count": 14,
   "metadata": {},
   "outputs": [],
   "source": [
    "import cv2\n",
    "from datetime import datetime\n",
    "#from PIL import Image\n",
    "\n",
    "\n",
    "# read video from main camera\n",
    "cap = cv2.VideoCapture(0)\n",
    "\n",
    "\n",
    "\n",
    "# get size of video\n",
    "width = int(cap.get(cv2.CAP_PROP_FRAME_WIDTH)) \n",
    "height = int(cap.get(cv2.CAP_PROP_FRAME_HEIGHT))\n",
    "\n",
    "\n",
    "while True:\n",
    "    \n",
    "    #get frames\n",
    "    ret,frame  = cap.read()\n",
    "    \n",
    "    cv2.imshow('Take picture',frame)\n",
    "    \n",
    "    if cv2.waitKey(1) & 0xFF == ord('q'):\n",
    "        filename = ''\n",
    "        break\n",
    "        \n",
    "    if cv2.waitKey(1) &0xFF == ord('w'):\n",
    "        filename = 'Pic-'\n",
    "        x = str(datetime.now().time())\n",
    "        x = x.split('.')[0]\n",
    "        x = x.replace(':','-')\n",
    "        filename += x\n",
    "        filename += '.jpg'\n",
    "        cv2.imwrite(filename,frame)\n",
    "        break\n",
    "        \n",
    "cap.release()\n",
    "cv2.destroyAllWindows()"
   ]
  }
 ],
 "metadata": {
  "kernelspec": {
   "display_name": "Python 3",
   "language": "python",
   "name": "python3"
  },
  "language_info": {
   "codemirror_mode": {
    "name": "ipython",
    "version": 3
   },
   "file_extension": ".py",
   "mimetype": "text/x-python",
   "name": "python",
   "nbconvert_exporter": "python",
   "pygments_lexer": "ipython3",
   "version": "3.7.3"
  }
 },
 "nbformat": 4,
 "nbformat_minor": 2
}
