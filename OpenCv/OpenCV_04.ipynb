{
 "cells": [
  {
   "cell_type": "markdown",
   "metadata": {},
   "source": [
    "<h1>\n",
    "    \n",
    "        How to draw in images(directly)(Part03)   \n",
    "</h1><h4>\n",
    "           \n",
    "            1. we have to show image with cv2.imshow( -- with a infinit loop)\n",
    "    \n",
    "            2. set window name for cv2 ( cv2.namedwindow)\n",
    "    \n",
    "            3. write a function with (event, x,y,flags,param) for calling this function\n",
    "    \n",
    "            4. match cv2 image and function together with (-- cv2.setMouseCallback)\n",
    "    \n",
    "</h4>"
   ]
  },
  {
   "cell_type": "code",
   "execution_count": 2,
   "metadata": {},
   "outputs": [],
   "source": [
    "import cv2\n",
    "import numpy as np"
   ]
  },
  {
   "cell_type": "code",
   "execution_count": 9,
   "metadata": {},
   "outputs": [],
   "source": [
    "#VARS : \n",
    "drawing = False\n",
    "ix = -1\n",
    "iy = -1\n",
    "\n",
    "\n",
    "#FUNCTIONS :\n",
    "def Dynamic_Draw(event,x,y,flafs,params):\n",
    "    global ix,iy,drawing\n",
    "    \n",
    "    if(event == cv2.EVENT_LBUTTONDOWN): # when we click , starts \n",
    "        drawing = True\n",
    "        ix,iy = x,y\n",
    "        \n",
    "    elif(event == cv2.EVENT_MOUSEMOVE): # if we hold bytton and move our mouse \n",
    "        if(drawing == True):\n",
    "            cv2.rectangle(img,(ix,iy),(x,y),(150,0,0),-1)\n",
    "            \n",
    "    elif(event == cv2.EVENT_LBUTTONUP): # if we release mouse\n",
    "        drawing = False\n",
    "        cv2.rectangle(img,(ix,iy),(x,y),(150,0,0),-1)\n",
    "        \n",
    "    elif (event == cv2.EVENT_MOUSEWHEEL):\n",
    "        \n",
    "        cv2.rectangle(img,pt1=(0,0),pt2=(720,720),color=(0,0,0),thickness=-1) # clear the creen\n",
    "        \n",
    "    \n",
    "#SHOWING THE IMAGE :\n",
    "\n",
    "#BLACK IMAGE :\n",
    "img = np.zeros((720,512,3))\n",
    "\n",
    "cv2.namedWindow(winname='My_Draw')\n",
    "\n",
    "cv2.setMouseCallback('My_Draw',Dynamic_Draw)\n",
    "\n",
    "while True:\n",
    "    \n",
    "    cv2.imshow('My_Draw',img)\n",
    "    \n",
    "    if(cv2.waitKey(1) & 0xFF == 27):\n",
    "        break\n",
    "        \n",
    "cv2.destroyAllWindows()\n",
    "    "
   ]
  }
 ],
 "metadata": {
  "kernelspec": {
   "display_name": "Python 3",
   "language": "python",
   "name": "python3"
  },
  "language_info": {
   "codemirror_mode": {
    "name": "ipython",
    "version": 3
   },
   "file_extension": ".py",
   "mimetype": "text/x-python",
   "name": "python",
   "nbconvert_exporter": "python",
   "pygments_lexer": "ipython3",
   "version": "3.7.3"
  }
 },
 "nbformat": 4,
 "nbformat_minor": 2
}
