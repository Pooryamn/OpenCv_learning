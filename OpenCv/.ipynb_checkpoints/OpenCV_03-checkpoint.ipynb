{
 "cells": [
  {
   "cell_type": "markdown",
   "metadata": {},
   "source": [
    "<h1>\n",
    "    \n",
    "        How to draw in images(directly)(Part01)   \n",
    "</h1><h4>\n",
    "           \n",
    "            1. we have to show image with cv2.imshow( -- with a infinit loop)\n",
    "    \n",
    "            2. set window name for cv2 ( cv2.namedwindow)\n",
    "    \n",
    "            3. write a function with (event, x,y,flags,param) for calling this function\n",
    "    \n",
    "            4. match cv2 image and function together with (-- cv2.setMouseCallback)\n",
    "    \n",
    "</h4>"
   ]
  },
  {
   "cell_type": "code",
   "execution_count": 10,
   "metadata": {},
   "outputs": [],
   "source": [
    "import cv2\n",
    "import numpy as np\n",
    "\n",
    "##############\n",
    "## FUNCTION ##\n",
    "##############\n",
    "\n",
    "# connet function :\n",
    "\n",
    "def drawing(event,x,y,flags,param): # Parameters is important \n",
    "    \n",
    "    if (event == cv2.EVENT_LBUTTONDOWN): # it is True when we press mouse left button\n",
    "        \n",
    "        cv2.circle(img,(x,y),radius = 100,color = (255,0,0),thickness = -1) # draw a circle with x,y center\n",
    "    \n",
    "    elif(event == cv2.EVENT_RBUTTONDOWN): \n",
    "        \n",
    "        cv2.rectangle(img,pt1=(0,0),pt2=(1023,1023),color=(0,0,0),thickness=-1) # clear the creen\n",
    "        \n",
    "    elif(event == cv2.EVENT_MOUSEWHEEL):\n",
    "        \n",
    "        font = cv2.FONT_HERSHEY_COMPLEX\n",
    "        cv2.putText(img,'Poorya',(x,y),fontFace = font,fontScale=2,color=(0,0,255),thickness=3,lineType=cv2.LINE_AA) # set Poorya on screen\n",
    "    \n",
    "cv2.namedWindow(winname = 'My_draw') \n",
    "\n",
    "cv2.setMouseCallback('My_draw',drawing)\n",
    "    \n",
    "\n",
    "############################\n",
    "## SHOW IMAGE WITH OPENCV ##\n",
    "############################\n",
    "\n",
    "img = np.zeros((1024,1024,3))\n",
    "\n",
    "\n",
    "\n",
    "while True:\n",
    "    cv2.imshow('My_draw',img)\n",
    "    \n",
    "    if(cv2.waitKey(20) & 0xFF == 27):\n",
    "        break\n",
    "        \n",
    "cv2.destroyAllWindows()\n"
   ]
  },
  {
   "cell_type": "code",
   "execution_count": null,
   "metadata": {},
   "outputs": [],
   "source": []
  }
 ],
 "metadata": {
  "kernelspec": {
   "display_name": "Python 3",
   "language": "python",
   "name": "python3"
  },
  "language_info": {
   "codemirror_mode": {
    "name": "ipython",
    "version": 3
   },
   "file_extension": ".py",
   "mimetype": "text/x-python",
   "name": "python",
   "nbconvert_exporter": "python",
   "pygments_lexer": "ipython3",
   "version": "3.7.3"
  }
 },
 "nbformat": 4,
 "nbformat_minor": 2
}
