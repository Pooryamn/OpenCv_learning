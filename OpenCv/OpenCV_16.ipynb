{
 "cells": [
  {
   "cell_type": "markdown",
   "metadata": {},
   "source": [
    "# Vude Basics\n",
    "\n",
    "### to working with video first shutdown all other kernels\n",
    "\n",
    "## in fact a video is a continues frames \n",
    "\n",
    "## For saving video with opencv: \n",
    "    -> *'DIVX' codec for windows\n",
    "    -> *'XVID' codec for mac and linux \n",
    "    \n",
    "## after choosing codec we must choose how many frame per secend store in our video ? \n",
    "    -> Recomemded : 20 - 30 frames per secend\n",
    "    -> we can use highest power of our camera with CAP_PROP_FRAME_COUNT"
   ]
  },
  {
   "cell_type": "code",
   "execution_count": 5,
   "metadata": {},
   "outputs": [],
   "source": [
    "import cv2\n",
    "\n",
    "# set default camera for input \n",
    "cap = cv2.VideoCapture(0)\n",
    "\n",
    "# get size of video\n",
    "width = int(cap.get(cv2.CAP_PROP_FRAME_WIDTH)) \n",
    "height = int(cap.get(cv2.CAP_PROP_FRAME_HEIGHT))\n",
    "\n",
    "# create Writer object to make vide file with open cv(param1 : file name,param2 : codec)\n",
    "writer = cv2.VideoWriter('Poorya.mp4',cv2.VideoWriter_fourcc(*'XVID'),20,(width,height))\n",
    "\n",
    "while (True):\n",
    "    # Take frame of video one by one and save it to frame\n",
    "    ret,frame = cap.read()\n",
    "    \n",
    "    # Operations (drawing)\n",
    "    writer.write(frame)\n",
    "    \n",
    "    # convert frame color from BGR to Gray\n",
    "    gray = cv2.cvtColor(frame,cv2.COLOR_BGR2GRAY)\n",
    "    \n",
    "    # Show the frame\n",
    "    cv2.imshow('Poorya',gray)\n",
    "    \n",
    "    # if user press 'q' key then close the window\n",
    "    if (cv2.waitKey(1) & 0xFF == ord('q')):\n",
    "        break\n",
    "\n",
    "# stop capturing\n",
    "cap.release()\n",
    "# stop writer \n",
    "writer.release()\n",
    "cv2.destroyAllWindows()"
   ]
  },
  {
   "cell_type": "code",
   "execution_count": null,
   "metadata": {},
   "outputs": [],
   "source": []
  }
 ],
 "metadata": {
  "kernelspec": {
   "display_name": "Python 3",
   "language": "python",
   "name": "python3"
  },
  "language_info": {
   "codemirror_mode": {
    "name": "ipython",
    "version": 3
   },
   "file_extension": ".py",
   "mimetype": "text/x-python",
   "name": "python",
   "nbconvert_exporter": "python",
   "pygments_lexer": "ipython3",
   "version": "3.7.3"
  }
 },
 "nbformat": 4,
 "nbformat_minor": 2
}
